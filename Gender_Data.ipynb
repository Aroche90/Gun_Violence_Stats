{
 "cells": [
  {
   "cell_type": "code",
   "execution_count": 1,
   "metadata": {},
   "outputs": [],
   "source": [
    "import matplotlib.pyplot as plt\n",
    "import pandas as pd\n",
    "from collections import Counter\n",
    "from string import punctuation\n"
   ]
  },
  {
   "cell_type": "code",
   "execution_count": 2,
   "metadata": {
    "scrolled": true
   },
   "outputs": [
    {
     "data": {
      "text/html": [
       "<div>\n",
       "<style scoped>\n",
       "    .dataframe tbody tr th:only-of-type {\n",
       "        vertical-align: middle;\n",
       "    }\n",
       "\n",
       "    .dataframe tbody tr th {\n",
       "        vertical-align: top;\n",
       "    }\n",
       "\n",
       "    .dataframe thead th {\n",
       "        text-align: right;\n",
       "    }\n",
       "</style>\n",
       "<table border=\"1\" class=\"dataframe\">\n",
       "  <thead>\n",
       "    <tr style=\"text-align: right;\">\n",
       "      <th></th>\n",
       "      <th>incident_id</th>\n",
       "      <th>date</th>\n",
       "      <th>state</th>\n",
       "      <th>city_or_county</th>\n",
       "      <th>address</th>\n",
       "      <th>n_killed</th>\n",
       "      <th>n_injured</th>\n",
       "      <th>incident_url</th>\n",
       "      <th>source_url</th>\n",
       "      <th>incident_url_fields_missing</th>\n",
       "      <th>...</th>\n",
       "      <th>participant_age</th>\n",
       "      <th>participant_age_group</th>\n",
       "      <th>participant_gender</th>\n",
       "      <th>participant_name</th>\n",
       "      <th>participant_relationship</th>\n",
       "      <th>participant_status</th>\n",
       "      <th>participant_type</th>\n",
       "      <th>sources</th>\n",
       "      <th>state_house_district</th>\n",
       "      <th>state_senate_district</th>\n",
       "    </tr>\n",
       "  </thead>\n",
       "  <tbody>\n",
       "    <tr>\n",
       "      <td>0</td>\n",
       "      <td>274168</td>\n",
       "      <td>1/1/2015</td>\n",
       "      <td>Oklahoma</td>\n",
       "      <td>Tulsa</td>\n",
       "      <td>4840 South Memorial Dr</td>\n",
       "      <td>0</td>\n",
       "      <td>2</td>\n",
       "      <td>http://www.gunviolencearchive.org/incident/274168</td>\n",
       "      <td>http://www.tulsaworld.com/news/crimewatch/thre...</td>\n",
       "      <td>False</td>\n",
       "      <td>...</td>\n",
       "      <td>0::27||1::26</td>\n",
       "      <td>0::Adult 18+||1::Adult 18+</td>\n",
       "      <td>0::Female||1::Male</td>\n",
       "      <td>2::Steven Desean \"Steezo\" Courtney</td>\n",
       "      <td>NaN</td>\n",
       "      <td>0::Injured||1::Injured||2::Unharmed</td>\n",
       "      <td>0::Victim||1::Victim||2::Subject-Suspect</td>\n",
       "      <td>http://www.tulsaworld.com/news/crimewatch/thre...</td>\n",
       "      <td>75.0</td>\n",
       "      <td>25.0</td>\n",
       "    </tr>\n",
       "    <tr>\n",
       "      <td>1</td>\n",
       "      <td>276211</td>\n",
       "      <td>1/1/2015</td>\n",
       "      <td>Louisiana</td>\n",
       "      <td>Labadieville</td>\n",
       "      <td>NaN</td>\n",
       "      <td>1</td>\n",
       "      <td>0</td>\n",
       "      <td>http://www.gunviolencearchive.org/incident/276211</td>\n",
       "      <td>http://www.wafb.com/story/27765450/investigato...</td>\n",
       "      <td>False</td>\n",
       "      <td>...</td>\n",
       "      <td>0::63</td>\n",
       "      <td>0::Adult 18+</td>\n",
       "      <td>0::Male</td>\n",
       "      <td>0::Gordon Jones, Senior</td>\n",
       "      <td>NaN</td>\n",
       "      <td>0::Killed</td>\n",
       "      <td>0::Victim</td>\n",
       "      <td>http://www.wafb.com/story/27765450/investigato...</td>\n",
       "      <td>51.0</td>\n",
       "      <td>17.0</td>\n",
       "    </tr>\n",
       "    <tr>\n",
       "      <td>2</td>\n",
       "      <td>272302</td>\n",
       "      <td>1/1/2015</td>\n",
       "      <td>Mississippi</td>\n",
       "      <td>Hattiesburg</td>\n",
       "      <td>Nugget Court</td>\n",
       "      <td>0</td>\n",
       "      <td>0</td>\n",
       "      <td>http://www.gunviolencearchive.org/incident/272302</td>\n",
       "      <td>http://www.wdam.com/story/27743511/2-hattiesbu...</td>\n",
       "      <td>False</td>\n",
       "      <td>...</td>\n",
       "      <td>0::26</td>\n",
       "      <td>0::Adult 18+</td>\n",
       "      <td>0::Male</td>\n",
       "      <td>0::Terry Turner</td>\n",
       "      <td>NaN</td>\n",
       "      <td>0::Unharmed, Arrested</td>\n",
       "      <td>0::Subject-Suspect</td>\n",
       "      <td>http://www.wdam.com/story/27743511/2-hattiesbu...</td>\n",
       "      <td>102.0</td>\n",
       "      <td>45.0</td>\n",
       "    </tr>\n",
       "    <tr>\n",
       "      <td>3</td>\n",
       "      <td>272482</td>\n",
       "      <td>1/1/2015</td>\n",
       "      <td>Alabama</td>\n",
       "      <td>Bessemer</td>\n",
       "      <td>Bessemer Superhighway and Avenue P</td>\n",
       "      <td>0</td>\n",
       "      <td>2</td>\n",
       "      <td>http://www.gunviolencearchive.org/incident/272482</td>\n",
       "      <td>http://www.myfoxal.com/story/27742512/police-i...</td>\n",
       "      <td>False</td>\n",
       "      <td>...</td>\n",
       "      <td>NaN</td>\n",
       "      <td>NaN</td>\n",
       "      <td>0::Male||1::Male</td>\n",
       "      <td>NaN</td>\n",
       "      <td>NaN</td>\n",
       "      <td>0::Injured||1::Injured</td>\n",
       "      <td>0::Victim||1::Victim</td>\n",
       "      <td>http://www.myfoxal.com/story/27742512/police-i...</td>\n",
       "      <td>57.0</td>\n",
       "      <td>19.0</td>\n",
       "    </tr>\n",
       "    <tr>\n",
       "      <td>4</td>\n",
       "      <td>272487</td>\n",
       "      <td>1/1/2015</td>\n",
       "      <td>Illinois</td>\n",
       "      <td>Chicago</td>\n",
       "      <td>2200 block of North Narragansett Avenue</td>\n",
       "      <td>0</td>\n",
       "      <td>1</td>\n",
       "      <td>http://www.gunviolencearchive.org/incident/272487</td>\n",
       "      <td>http://www.chicagotribune.com/news/local/break...</td>\n",
       "      <td>False</td>\n",
       "      <td>...</td>\n",
       "      <td>NaN</td>\n",
       "      <td>NaN</td>\n",
       "      <td>0::Male</td>\n",
       "      <td>NaN</td>\n",
       "      <td>NaN</td>\n",
       "      <td>0::Injured</td>\n",
       "      <td>0::Victim</td>\n",
       "      <td>http://www.chicagotribune.com/news/local/break...</td>\n",
       "      <td>3.0</td>\n",
       "      <td>2.0</td>\n",
       "    </tr>\n",
       "  </tbody>\n",
       "</table>\n",
       "<p>5 rows × 29 columns</p>\n",
       "</div>"
      ],
      "text/plain": [
       "   incident_id      date        state city_or_county  \\\n",
       "0       274168  1/1/2015     Oklahoma          Tulsa   \n",
       "1       276211  1/1/2015    Louisiana   Labadieville   \n",
       "2       272302  1/1/2015  Mississippi    Hattiesburg   \n",
       "3       272482  1/1/2015      Alabama       Bessemer   \n",
       "4       272487  1/1/2015     Illinois        Chicago   \n",
       "\n",
       "                                   address  n_killed  n_injured  \\\n",
       "0                   4840 South Memorial Dr         0          2   \n",
       "1                                      NaN         1          0   \n",
       "2                             Nugget Court         0          0   \n",
       "3       Bessemer Superhighway and Avenue P         0          2   \n",
       "4  2200 block of North Narragansett Avenue         0          1   \n",
       "\n",
       "                                        incident_url  \\\n",
       "0  http://www.gunviolencearchive.org/incident/274168   \n",
       "1  http://www.gunviolencearchive.org/incident/276211   \n",
       "2  http://www.gunviolencearchive.org/incident/272302   \n",
       "3  http://www.gunviolencearchive.org/incident/272482   \n",
       "4  http://www.gunviolencearchive.org/incident/272487   \n",
       "\n",
       "                                          source_url  \\\n",
       "0  http://www.tulsaworld.com/news/crimewatch/thre...   \n",
       "1  http://www.wafb.com/story/27765450/investigato...   \n",
       "2  http://www.wdam.com/story/27743511/2-hattiesbu...   \n",
       "3  http://www.myfoxal.com/story/27742512/police-i...   \n",
       "4  http://www.chicagotribune.com/news/local/break...   \n",
       "\n",
       "   incident_url_fields_missing  ...  participant_age  \\\n",
       "0                        False  ...     0::27||1::26   \n",
       "1                        False  ...            0::63   \n",
       "2                        False  ...            0::26   \n",
       "3                        False  ...              NaN   \n",
       "4                        False  ...              NaN   \n",
       "\n",
       "        participant_age_group  participant_gender  \\\n",
       "0  0::Adult 18+||1::Adult 18+  0::Female||1::Male   \n",
       "1                0::Adult 18+             0::Male   \n",
       "2                0::Adult 18+             0::Male   \n",
       "3                         NaN    0::Male||1::Male   \n",
       "4                         NaN             0::Male   \n",
       "\n",
       "                     participant_name  participant_relationship  \\\n",
       "0  2::Steven Desean \"Steezo\" Courtney                       NaN   \n",
       "1             0::Gordon Jones, Senior                       NaN   \n",
       "2                     0::Terry Turner                       NaN   \n",
       "3                                 NaN                       NaN   \n",
       "4                                 NaN                       NaN   \n",
       "\n",
       "                    participant_status  \\\n",
       "0  0::Injured||1::Injured||2::Unharmed   \n",
       "1                            0::Killed   \n",
       "2                0::Unharmed, Arrested   \n",
       "3               0::Injured||1::Injured   \n",
       "4                           0::Injured   \n",
       "\n",
       "                           participant_type  \\\n",
       "0  0::Victim||1::Victim||2::Subject-Suspect   \n",
       "1                                 0::Victim   \n",
       "2                        0::Subject-Suspect   \n",
       "3                      0::Victim||1::Victim   \n",
       "4                                 0::Victim   \n",
       "\n",
       "                                             sources state_house_district  \\\n",
       "0  http://www.tulsaworld.com/news/crimewatch/thre...                 75.0   \n",
       "1  http://www.wafb.com/story/27765450/investigato...                 51.0   \n",
       "2  http://www.wdam.com/story/27743511/2-hattiesbu...                102.0   \n",
       "3  http://www.myfoxal.com/story/27742512/police-i...                 57.0   \n",
       "4  http://www.chicagotribune.com/news/local/break...                  3.0   \n",
       "\n",
       "  state_senate_district  \n",
       "0                  25.0  \n",
       "1                  17.0  \n",
       "2                  45.0  \n",
       "3                  19.0  \n",
       "4                   2.0  \n",
       "\n",
       "[5 rows x 29 columns]"
      ]
     },
     "execution_count": 2,
     "metadata": {},
     "output_type": "execute_result"
    }
   ],
   "source": [
    "gun_data = \"gun_violence.csv\"\n",
    "gun_data = pd.read_csv(gun_data,low_memory =False)\n",
    "gun_data.head()"
   ]
  },
  {
   "cell_type": "code",
   "execution_count": 3,
   "metadata": {},
   "outputs": [
    {
     "data": {
      "text/html": [
       "<div>\n",
       "<style scoped>\n",
       "    .dataframe tbody tr th:only-of-type {\n",
       "        vertical-align: middle;\n",
       "    }\n",
       "\n",
       "    .dataframe tbody tr th {\n",
       "        vertical-align: top;\n",
       "    }\n",
       "\n",
       "    .dataframe thead th {\n",
       "        text-align: right;\n",
       "    }\n",
       "</style>\n",
       "<table border=\"1\" class=\"dataframe\">\n",
       "  <thead>\n",
       "    <tr style=\"text-align: right;\">\n",
       "      <th></th>\n",
       "      <th>participant_gender</th>\n",
       "    </tr>\n",
       "  </thead>\n",
       "  <tbody>\n",
       "    <tr>\n",
       "      <td>0</td>\n",
       "      <td>0::Female||1::Male</td>\n",
       "    </tr>\n",
       "    <tr>\n",
       "      <td>1</td>\n",
       "      <td>0::Male</td>\n",
       "    </tr>\n",
       "    <tr>\n",
       "      <td>2</td>\n",
       "      <td>0::Male</td>\n",
       "    </tr>\n",
       "    <tr>\n",
       "      <td>3</td>\n",
       "      <td>0::Male||1::Male</td>\n",
       "    </tr>\n",
       "    <tr>\n",
       "      <td>4</td>\n",
       "      <td>0::Male</td>\n",
       "    </tr>\n",
       "  </tbody>\n",
       "</table>\n",
       "</div>"
      ],
      "text/plain": [
       "   participant_gender\n",
       "0  0::Female||1::Male\n",
       "1             0::Male\n",
       "2             0::Male\n",
       "3    0::Male||1::Male\n",
       "4             0::Male"
      ]
     },
     "execution_count": 3,
     "metadata": {},
     "output_type": "execute_result"
    }
   ],
   "source": [
    "gender_table = gun_data[[\"participant_gender\"]]\n",
    "gender_table.head()"
   ]
  },
  {
   "cell_type": "code",
   "execution_count": 4,
   "metadata": {},
   "outputs": [
    {
     "data": {
      "text/plain": [
       "219972.0"
      ]
     },
     "execution_count": 4,
     "metadata": {},
     "output_type": "execute_result"
    }
   ],
   "source": [
    "male_count = gender_table.participant_gender.str.count(\"Male\").sum()\n",
    "male_count"
   ]
  },
  {
   "cell_type": "code",
   "execution_count": 5,
   "metadata": {},
   "outputs": [
    {
     "data": {
      "text/plain": [
       "30149.0"
      ]
     },
     "execution_count": 5,
     "metadata": {},
     "output_type": "execute_result"
    }
   ],
   "source": [
    "female_count = gender_table.participant_gender.str.count(\"Female\").sum()\n",
    "female_count"
   ]
  },
  {
   "cell_type": "code",
   "execution_count": 38,
   "metadata": {},
   "outputs": [],
   "source": [
    "pie_chart = male_count, female_count\n",
    "colors = [\"dodgerblue\", \"palevioletred\"]\n",
    "gender = [\"Male\", \"Female\"]\n",
    "explode = (0.1, 0)"
   ]
  },
  {
   "cell_type": "code",
   "execution_count": 39,
   "metadata": {},
   "outputs": [
    {
     "data": {
      "image/png": "[encoded data removed]",
      "text/plain": [
       "<Figure size 432x288 with 1 Axes>"
      ]
     },
     "metadata": {},
     "output_type": "display_data"
    }
   ],
   "source": [
    "plt.pie(pie_chart, colors = colors, labels = gender, explode = explode,\n",
    "        autopct=\"%1.1f%%\", shadow=True, startangle=140)\n",
    "plt.axis(\"equal\")\n",
    "plt.title(\"Participant Gender\")\n",
    "plt.savefig(\"../UCI_Project_1/PyPies.png\")\n",
    "plt.show()"
   ]
  },
  {
   "cell_type": "code",
   "execution_count": 30,
   "metadata": {},
   "outputs": [
    {
     "data": {
      "text/plain": [
       "<Figure size 432x288 with 0 Axes>"
      ]
     },
     "metadata": {},
     "output_type": "display_data"
    }
   ],
   "source": [
    "\n"
   ]
  },
  {
   "cell_type": "code",
   "execution_count": null,
   "metadata": {},
   "outputs": [],
   "source": []
  },
  {
   "cell_type": "code",
   "execution_count": null,
   "metadata": {},
   "outputs": [],
   "source": []
  },
  {
   "cell_type": "code",
   "execution_count": null,
   "metadata": {},
   "outputs": [],
   "source": []
  },
  {
   "cell_type": "code",
   "execution_count": null,
   "metadata": {},
   "outputs": [],
   "source": []
  },
  {
   "cell_type": "code",
   "execution_count": null,
   "metadata": {},
   "outputs": [],
   "source": []
  },
  {
   "cell_type": "code",
   "execution_count": null,
   "metadata": {},
   "outputs": [],
   "source": [
    "\n"
   ]
  },
  {
   "cell_type": "code",
   "execution_count": null,
   "metadata": {},
   "outputs": [],
   "source": []
  }
 ],
 "metadata": {
  "kernelspec": {
   "display_name": "Python [conda env:PythonData] *",
   "language": "python",
   "name": "conda-env-PythonData-py"
  },
  "language_info": {
   "codemirror_mode": {
    "name": "ipython",
    "version": 3
   },
   "file_extension": ".py",
   "mimetype": "text/x-python",
   "name": "python",
   "nbconvert_exporter": "python",
   "pygments_lexer": "ipython3",
   "version": "3.6.9"
  }
 },
 "nbformat": 4,
 "nbformat_minor": 2
}
